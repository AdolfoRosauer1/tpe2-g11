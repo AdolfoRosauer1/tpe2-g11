{
 "cells": [
  {
   "cell_type": "code",
   "execution_count": 1,
   "metadata": {},
   "outputs": [],
   "source": [
    "import os\n",
    "\n",
    "# make dirs\n",
    "os.makedirs('../short_csvs', exist_ok=True)\n",
    "os.makedirs('../csvs', exist_ok=True)\n",
    "# Make CSVs shorter by grabbing one in every 10 rows and store in /short_csvs\n",
    "for file in os.listdir('../'):\n",
    "    if file.endswith('.csv'):\n",
    "        with open('../' + file, 'r') as f:\n",
    "            lines = f.readlines()\n",
    "        # Shorten the lines by grabbing one in every 10 rows\n",
    "        short_lines = lines[::10]\n",
    "        with open('../short_csvs/' + file, 'w') as f_short:\n",
    "            f_short.writelines(short_lines)\n",
    "        with open('../csvs/' + file, 'w') as f_full:\n",
    "            f_full.writelines(lines)\n"
   ]
  }
 ],
 "metadata": {
  "kernelspec": {
   "display_name": ".venv",
   "language": "python",
   "name": "python3"
  },
  "language_info": {
   "codemirror_mode": {
    "name": "ipython",
    "version": 3
   },
   "file_extension": ".py",
   "mimetype": "text/x-python",
   "name": "python",
   "nbconvert_exporter": "python",
   "pygments_lexer": "ipython3",
   "version": "3.12.3"
  }
 },
 "nbformat": 4,
 "nbformat_minor": 2
}
